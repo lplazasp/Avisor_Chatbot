{
  "nbformat": 4,
  "nbformat_minor": 0,
  "metadata": {
    "colab": {
      "provenance": [],
      "include_colab_link": true
    },
    "kernelspec": {
      "name": "python3",
      "display_name": "Python 3"
    },
    "language_info": {
      "name": "python"
    }
  },
  "cells": [
    {
      "cell_type": "markdown",
      "metadata": {
        "id": "view-in-github",
        "colab_type": "text"
      },
      "source": [
        "<a href=\"https://colab.research.google.com/github/lplazasp/Avisor_Chatbot/blob/main/LAB1_BI.ipynb\" target=\"_parent\"><img src=\"https://colab.research.google.com/assets/colab-badge.svg\" alt=\"Open In Colab\"/></a>"
      ]
    },
    {
      "cell_type": "markdown",
      "source": [
        "**LABORATORIO 1 - INTELIGENCIA DE NEGOCIOS**\n",
        "\n",
        "Santiago Pardo - 202013025\n",
        "\n",
        "\n",
        "\n",
        "Luis Plazas - 202013155\n",
        "\n",
        "\n",
        "\n",
        "\n",
        "Felipe Rueda - 202010903"
      ],
      "metadata": {
        "id": "jMBZnjzPAsmD"
      }
    },
    {
      "cell_type": "code",
      "execution_count": null,
      "metadata": {
        "id": "zCVWaN-vAqY0"
      },
      "outputs": [],
      "source": []
    }
  ]
}